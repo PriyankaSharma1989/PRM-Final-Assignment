{
 "cells": [
  {
   "cell_type": "code",
   "execution_count": 4,
   "id": "cb5e489a",
   "metadata": {},
   "outputs": [
    {
     "name": "stdout",
     "output_type": "stream",
     "text": [
      "Enter the number of elements in the list : 6\n",
      "Enter the element: 6\n",
      "Enter the element: 1\n",
      "Enter the element: 4\n",
      "Enter the element: 5\n",
      "Enter the element: 3\n",
      "Enter the element: 2\n",
      "the list is  [6, 1, 4, 5, 3, 2]\n",
      "Sorted list: [1, 2, 3, 4, 5, 6]\n",
      "Largest Element is : 6\n",
      "Smallest Element is : 1\n",
      " Second Largest Element is : 5\n",
      " Second Smallest Element is : 2\n",
      " Third Largest Element is : 4\n",
      " Third Smallest Element is : 3\n"
     ]
    }
   ],
   "source": [
    "# Q1 You will be given a list. You have to print a list whose 1st element should be largest and 2nd should be the smallest then the 3rd should be 2nd largest and 4th should be 2nd smallest and so on.\n",
    "\n",
    "n=int(input(\"Enter the number of elements in the list : \"))\n",
    "list=[]\n",
    "for i in range(n):\n",
    "    element=int(input(\"Enter the element: \"))\n",
    "    list.append(element)\n",
    "print(\"the list is \", list)\n",
    "sorted_list=list.sort()\n",
    "print(\"Sorted list:\", list)\n",
    "largest=list[-1]\n",
    "print(\"Largest Element is :\", largest)\n",
    "smallest=list[0]\n",
    "print(\"Smallest Element is :\", smallest)  \n",
    "second_largest=list[-2]\n",
    "print(\" Second Largest Element is :\", second_largest)\n",
    "second_smallest=list[1]\n",
    "print(\" Second Smallest Element is :\", second_smallest)\n",
    "Third_largest=list[-3]\n",
    "print(\" Third Largest Element is :\", Third_largest)\n",
    "Third_smallest=list[2]\n",
    "print(\" Third Smallest Element is :\", Third_smallest)\n",
    "\n",
    "            \n",
    "            "
   ]
  },
  {
   "cell_type": "markdown",
   "id": "c8a0eab8",
   "metadata": {},
   "source": []
  }
 ],
 "metadata": {
  "kernelspec": {
   "display_name": "Python 3 (ipykernel)",
   "language": "python",
   "name": "python3"
  },
  "language_info": {
   "codemirror_mode": {
    "name": "ipython",
    "version": 3
   },
   "file_extension": ".py",
   "mimetype": "text/x-python",
   "name": "python",
   "nbconvert_exporter": "python",
   "pygments_lexer": "ipython3",
   "version": "3.9.12"
  }
 },
 "nbformat": 4,
 "nbformat_minor": 5
}
